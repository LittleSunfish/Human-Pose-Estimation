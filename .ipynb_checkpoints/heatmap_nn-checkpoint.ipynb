{
 "cells": [
  {
   "cell_type": "code",
   "execution_count": 1,
   "metadata": {},
   "outputs": [
    {
     "name": "stdout",
     "output_type": "stream",
     "text": [
      "/home/sojeong/anaconda3/bin/python\n"
     ]
    }
   ],
   "source": [
    "from ResNet50_HPE import ResNet50\n",
    "from customCOCO import CustomCOCO"
   ]
  },
  {
   "cell_type": "code",
   "execution_count": 2,
   "metadata": {},
   "outputs": [],
   "source": [
    "import torch \n",
    "import torch.nn as nn\n",
    "import torch.optim as optim\n",
    "from torch.utils.data import DataLoader\n",
    "\n",
    "import numpy as np\n",
    "import random\n",
    "from tqdm import tqdm"
   ]
  },
  {
   "cell_type": "code",
   "execution_count": 3,
   "metadata": {},
   "outputs": [],
   "source": [
    "train_coco_json_path = '/home/sojeong/CV/deep-high-resolution-net.pytorch/data/coco/annotations/person_keypoints_train2017.json'\n",
    "train_coco_img_path  = '/home/sojeong/CV/deep-high-resolution-net.pytorch/data/coco/images/train2017/'\n",
    "test_coco_json_path = '/home/sojeong/CV/deep-high-resolution-net.pytorch/data/coco/annotations/person_keypoints_val2017.json'\n",
    "test_coco_img_path = '/home/sojeong/CV/deep-high-resolution-net.pytorch/data/coco/images/val2017'"
   ]
  },
  {
   "cell_type": "code",
   "execution_count": 4,
   "metadata": {},
   "outputs": [],
   "source": [
    "training_data = CustomCOCO(train_coco_json_path, train_coco_img_path)\n",
    "#test_data = CustomCOCO(test_coco_json_path, test_coco_img_path)"
   ]
  },
  {
   "cell_type": "code",
   "execution_count": 5,
   "metadata": {},
   "outputs": [],
   "source": [
    "train_dataloader = DataLoader(training_data, batch_size=16, shuffle=True)\n",
    "#test_dataloader = DataLoader(test_data, batch_size=64, shuffle=True)"
   ]
  },
  {
   "cell_type": "code",
   "execution_count": 6,
   "metadata": {},
   "outputs": [],
   "source": [
    "def reset_seed(seed):\n",
    "    torch.manual_seed(seed)\n",
    "    np.random.seed(seed)\n",
    "    random.seed(seed)"
   ]
  },
  {
   "cell_type": "code",
   "execution_count": 7,
   "metadata": {},
   "outputs": [],
   "source": [
    "def test(model, loader, device=\"cpu\"):\n",
    "    model.eval()\n",
    "    total=0\n",
    "    correct=0\n",
    "    with torch.no_grad():\n",
    "        for data in loader:\n",
    "            images, labels = data\n",
    "            images = images.to(device)\n",
    "            labels = labels.to(device)\n",
    "            \n",
    "            outputs = model(images)\n",
    "            _, predicted = torch.max(outputs.data, 1)\n",
    "            total += labels.size(0)\n",
    "            correct += (predicted==labels).sum().item()\n",
    "    acc = 100*correct/total\n",
    "    \n",
    "    return acc\n"
   ]
  },
  {
   "cell_type": "code",
   "execution_count": 8,
   "metadata": {},
   "outputs": [],
   "source": [
    "def train(model, n_epoch, loader, optimizer, criterion, device=\"cpu\"):\n",
    "    model.train()\n",
    "    for epoch in tqdm(range(n_epoch)):\n",
    "        running_loss = 0.0\n",
    "        for i, (images, labels, visibility) in tqdm(enumerate(loader)):\n",
    "            images = images.to(device)\n",
    "            labels = labels.to(device)\n",
    "\n",
    "            optimizer.zero_grad()\n",
    "            outputs = model(images)\n",
    "            #print(\"size of outputs: \", outputs.shape)\n",
    "            #print(\"size of labels: \", labels.shape)\n",
    "            loss = criterion(input=outputs, target=labels)\n",
    "            loss.mean().backward()\n",
    "            optimizer.step()\n",
    "            running_loss += loss.mean().item()\n",
    "\n",
    "        print('Epoch {}, loss = {:.3f}'.format(epoch, running_loss/len(loader)))\n",
    "    \n",
    "    print('Training Finished')"
   ]
  },
  {
   "cell_type": "code",
   "execution_count": null,
   "metadata": {},
   "outputs": [],
   "source": [
    "#reset_seed(0)\n",
    "resnet_model = ResNet50().cuda()\n",
    "resnet_model = resnet_model.cuda(0)\n",
    "if torch.cuda.device_count() > 1:\n",
    "\t  resnet_model = nn.DataParallel(resnet_model) \n",
    "criterion = nn.MSELoss(reduction='none')\n",
    "optimizer = optim.SGD(params=resnet_model.parameters(), lr=0.1, momentum=0.9)\n",
    "\n",
    "## train\n",
    "train(model=resnet_model, n_epoch=3, loader=train_dataloader, optimizer=optimizer, criterion=criterion, device=\"cuda\")\n",
    "## test\n",
    "#resnet_acc = test(resnet_model, testloader, device=\"cuda\")\n",
    "\n",
    "#print('ResNet Test accuracy: {:.2f}%'.format(resnet_acc))"
   ]
  },
  {
   "cell_type": "code",
   "execution_count": null,
   "metadata": {},
   "outputs": [],
   "source": []
  }
 ],
 "metadata": {
  "kernelspec": {
   "display_name": "Python 3 (ipykernel)",
   "language": "python",
   "name": "python3"
  },
  "language_info": {
   "codemirror_mode": {
    "name": "ipython",
    "version": 3
   },
   "file_extension": ".py",
   "mimetype": "text/x-python",
   "name": "python",
   "nbconvert_exporter": "python",
   "pygments_lexer": "ipython3",
   "version": "3.9.7"
  },
  "vscode": {
   "interpreter": {
    "hash": "e73d7685138b7eb2ad9427bd1ae61da544d851fb0421f6c77d829cb8307c0749"
   }
  }
 },
 "nbformat": 4,
 "nbformat_minor": 2
}
