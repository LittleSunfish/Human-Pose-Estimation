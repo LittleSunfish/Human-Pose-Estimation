{
 "cells": [
  {
   "cell_type": "code",
   "execution_count": 1,
   "metadata": {},
   "outputs": [],
   "source": [
    "import torch\n",
    "import numpy as np\n",
    "from matplotlib import pyplot as plt\n",
    "import matplotlib.patches as patches\n",
    "from torch.utils.data import Dataset\n",
    "import cv2\n",
    "import json\n",
    "from torch.utils.data import DataLoader\n"
   ]
  },
  {
   "cell_type": "code",
   "execution_count": 2,
   "metadata": {},
   "outputs": [],
   "source": [
    "train_coco_json_path = '/home/sojeong/CV/deep-high-resolution-net.pytorch/data/coco/annotations/person_keypoints_train2017.json'\n",
    "train_coco_img_path  = '/home/sojeong/CV/deep-high-resolution-net.pytorch/data/coco/images/train2017/'\n",
    "test_coco_json_path = '/home/sojeong/CV/deep-high-resolution-net.pytorch/data/coco/annotations/person_keypoints_val2017.json'\n",
    "test_coco_img_path = '/home/sojeong/CV/deep-high-resolution-net.pytorch/data/coco/images/val2017'"
   ]
  },
  {
   "cell_type": "code",
   "execution_count": 90,
   "metadata": {},
   "outputs": [],
   "source": [
    "# returns the cropped COCO images\n",
    "class CustomCOCO(Dataset):\n",
    "\n",
    "    def __init__(self, json_path, img_path):\n",
    "        data = json.load(open(json_path))\n",
    "        self.json_path = json_path\n",
    "        self.anot = data['annotations']\n",
    "\n",
    "        #separate image_ids, keypoints, and bbox from data\n",
    "        self.img_path  = img_path\n",
    "        self.target_height = 256\n",
    "        self.target_width = 192\n",
    "\n",
    "    def __len__(self):\n",
    "        return len(self.anot)\n",
    "\n",
    "    def __getitem__(self, idx):\n",
    "        self.load_img(idx)\n",
    "        img = self.resized_image\n",
    "        hp = np.array(self.create_heatmap())\n",
    "        # tenrsor size\n",
    "        return torch.Tensor(img).permute(2,0,1), torch.Tensor(hp), torch.Tensor(self.keypoint_confidence)\n",
    "    \n",
    "    def get_id(self, index):\n",
    "        self._target_image_info(index)\n",
    "        return self.target_id\n",
    "    \n",
    "    def _target_image_info(self, index):\n",
    "        target_data = self.anot[index]\n",
    "        self.target_kp = target_data['keypoints']\n",
    "        self.target_bbox = target_data['bbox']\n",
    "        self.target_id = target_data['image_id']\n",
    "\n",
    "    def _crop_img(self):\n",
    "        X,Y,width,height = self.target_bbox\n",
    "        X,Y,width,height = int(X),int(Y), int(width)+1, int(height)+1\n",
    "\n",
    "        self.padding_up, padding_down, self.padding_left, padding_right = 0,0,0,0\n",
    "\n",
    "        if height/width < 4/3:\n",
    "            original_height = height\n",
    "            height = int(3*width/4)\n",
    "            height_change = height - original_height\n",
    "            ## 5% padding for robustness\n",
    "            original_width = width\n",
    "            width = int(width * 1.05)\n",
    "            width_change = width - original_width\n",
    "\n",
    "        else:\n",
    "            original_width = width\n",
    "            width = int(3*height/4)\n",
    "            width_change = width - original_width\n",
    "            ## 5% padding for robustness\n",
    "            original_height = height\n",
    "            height = int(height * 1.05)\n",
    "            height_change = height - original_height\n",
    "\n",
    "        Y_start = Y-int(height_change/2)\n",
    "        Y_end   = Y+height-int(height_change/2)\n",
    "        X_start = X-int(width_change/2)\n",
    "        X_end   = X-int(width_change/2)+width\n",
    "\n",
    "        #print(\"X and Y\", Y_start, Y_end, X_start, X_end)\n",
    "\n",
    "        \n",
    "        if Y_start<0 or X_start <0:\n",
    "            # apply padding -> up and left\n",
    "            img_size = self.target_image.shape\n",
    "            #print(\"img_size \", img_size)\n",
    "            pad = min(Y-int(height_change/2), X-int(width_change/2)) # pick more negative one\n",
    "            pad = abs(pad)+20\n",
    "            Y_start += pad; X_start += pad; Y_end += pad; X_end += pad\n",
    "            self.padding_up += pad; self.padding_left += pad\n",
    "            #print(\"pad: \", pad)\n",
    "            zero_array = np.zeros((img_size[0] + pad, img_size[1]+ pad, 3))\n",
    "            zero_array[pad:img_size[0]+pad, pad:img_size[1]+pad, :] = self.target_image/255.0\n",
    "            self.target_image = zero_array\n",
    "\n",
    "        img_size = self.target_image.shape\n",
    "        if Y_end > img_size[0] or X_end > img_size[1]:\n",
    "            # apply padding -> down and right\n",
    "            pad = max(Y_end-img_size[0], X_end-img_size[1])\n",
    "            pad = abs(pad)+20\n",
    "            Y_end += pad; X_end += pad\n",
    "            zero_array = np.zeros((img_size[0] + pad, img_size[1]+ pad, 3))\n",
    "            zero_array[:img_size[0], :img_size[1], :] = self.target_image/255.0\n",
    "            self.target_image = zero_array\n",
    "\n",
    "        #print(\"right before cropping X and Y\", Y_start, Y_end, X_start, X_end)\n",
    "        self.cropped_image = self.target_image[Y_start:Y_end, X_start:X_end, :]\n",
    "        #print(\"after cropping \", self.cropped_image.shape)\n",
    "\n",
    "        # if Y-int(height_change/2) < 0:\n",
    "        #     self.cropped_image = self.target_image[1:Y+height-int(height_change/2),X-int(width_change/2):X-int(width_change/2)+width]\n",
    "        \n",
    "        self.width = width; self.height = height\n",
    "        self.width_trans = X - int(width_change/2)\n",
    "        self.height_trans = Y - int(height_change/2)\n",
    "\n",
    "    def _resize_img(self):\n",
    "        dim = (self.target_width, self.target_height)\n",
    "        #print(\"img size before resizing: \", self.cropped_image.shape)\n",
    "        self.resized_image = cv2.resize(self.cropped_image, dim, interpolation=cv2.INTER_AREA)\n",
    "        #print(torch.Tensor(self.resized_image).shape)\n",
    "\n",
    "    def load_img(self, index):\n",
    "        self._target_image_info(index)\n",
    "        full_target_id = str(self.target_id).rjust(12, '0')\n",
    "        target_img_path = self.img_path + full_target_id + '.jpg'\n",
    "        #print(\"id: \", full_target_id)\n",
    "        self.target_image = cv2.imread(target_img_path)\n",
    "        self.target_image = cv2.cvtColor(self.target_image, cv2.COLOR_BGR2RGB)\n",
    "\n",
    "        # apply transformation\n",
    "        #print(\"before crop: \", self.target_image.shape)\n",
    "        self._crop_img()\n",
    "        #print(\"before resize: \", self.cropped_image.shape)\n",
    "        self._resize_img()\n",
    "\n",
    "    # Only for Debugging\n",
    "    def show_original(self):\n",
    "        plt.imshow(self.target_image)\n",
    "        plt.show()\n",
    "\n",
    "    def show_original_bbox(self):\n",
    "        X,Y,width,height = self.target_bbox\n",
    "        X,Y,width,height = int(X),int(Y), int(width)+1, int(height)+1\n",
    "        plt.imshow(self.target_image)\n",
    "        ax = plt.gca()\n",
    "        rect = patches.Rectangle((X,Y), width, height, linewidth=2, edgecolor='cyan', fill = False)\n",
    "        ax.add_patch(rect)\n",
    "        plt.show()\n",
    "\n",
    "    def show_img(self):\n",
    "        plt.imshow(self.resized_image)\n",
    "        plt.show()\n",
    "\n",
    "    def _create_kp_list(self):\n",
    "        # execute after load_img() \n",
    "        self.keypoint = []\n",
    "        self.keypoint_confidence = []\n",
    "        for i, k in enumerate(self.target_kp):\n",
    "            if i%3 != 0:\n",
    "                continue\n",
    "\n",
    "            x = self.target_kp[i] #k\n",
    "            y = self.target_kp[i+1]\n",
    "            confidence = self.target_kp[i+2]\n",
    "            \n",
    "            if confidence != 0:\n",
    "                x = (x-self.width_trans+self.padding_left)*self.target_width/self.width\n",
    "                y = (y-self.height_trans+self.padding_up)*self.target_height/self.height\n",
    "\n",
    "            if x<0 or y<0:\n",
    "                coordinate = (0,0)\n",
    "                confidence = 0\n",
    "            else:\n",
    "                coordinate = (y,x)\n",
    "            \n",
    "            #print(\"coordinate: \", coordinate)\n",
    "            self.keypoint.append(coordinate)\n",
    "            self.keypoint_confidence.append(confidence)\n",
    "\n",
    "    def create_heatmap(self):\n",
    "\n",
    "        def gaussian_heatmap(image_size, center_point):\n",
    "            ro = 0\n",
    "            center_x = center_point[0]\n",
    "            center_y = center_point[1]\n",
    "\n",
    "            grid_y, grid_x = np.meshgrid(np.arange(image_size[0]), np.arange(image_size[1]))\n",
    "            x = grid_x - center_x\n",
    "            y = grid_y - center_y\n",
    "\n",
    "            return np.exp(-1 * (x ** 2 - 2 * ro * x * y + y**2) / (2 * (1 - ro**2)))\n",
    "        \n",
    "        heatmap_list = []\n",
    "        self._create_kp_list()\n",
    "        for i, kp in enumerate(self.keypoint):\n",
    "            heatmap_i = gaussian_heatmap((192, 256), kp)\n",
    "            heatmap_list.append(heatmap_i)\n",
    "\n",
    "        return heatmap_list\n",
    "\n",
    "    def show_heatmap(self, heatmap_list):\n",
    "        h = np.stack(heatmap_list)\n",
    "        plt.imshow(h.max(axis=0)) \n"
   ]
  },
  {
   "cell_type": "code",
   "execution_count": 83,
   "metadata": {},
   "outputs": [],
   "source": [
    "mycoco = CustomCOCO(train_coco_json_path, train_coco_img_path)"
   ]
  },
  {
   "cell_type": "code",
   "execution_count": null,
   "metadata": {},
   "outputs": [],
   "source": [
    "mycoco.load_img(1124)\n",
    "mycoco.show_original_bbox()\n",
    "#mycoco.show_crop()"
   ]
  },
  {
   "cell_type": "code",
   "execution_count": 43,
   "metadata": {},
   "outputs": [
    {
     "name": "stdout",
     "output_type": "stream",
     "text": [
      "95999 262464 <class 'int'>\n"
     ]
    }
   ],
   "source": [
    "id_to_path = dict()\n",
    "\n",
    "mycoco = CustomCOCO(train_coco_json_path, train_coco_img_path)\n",
    "for i in range(len(mycoco)):\n",
    "    id_ = mycoco.get_id(i)\n",
    "    id_to_path[id_] = i"
   ]
  },
  {
   "cell_type": "code",
   "execution_count": 84,
   "metadata": {},
   "outputs": [
    {
     "name": "stdout",
     "output_type": "stream",
     "text": [
      "id:  000000185302\n",
      "before crop:  (424, 640, 3)\n",
      "X and Y -5 20 575 610\n",
      "right before cropping X and Y 20 45 600 635\n",
      "before resize:  (25, 35, 3)\n",
      "torch.Size([17, 256, 192])\n",
      "torch.Size([3, 256, 192])\n"
     ]
    },
    {
     "data": {
      "text/plain": [
       "<matplotlib.image.AxesImage at 0x7f367d733760>"
      ]
     },
     "execution_count": 84,
     "metadata": {},
     "output_type": "execute_result"
    },
    {
     "data": {
      "image/png": "[encoded data removed]",
      "text/plain": [
       "<Figure size 432x288 with 1 Axes>"
      ]
     },
     "metadata": {
      "needs_background": "light"
     },
     "output_type": "display_data"
    }
   ],
   "source": [
    "img, hp, confidence = mycoco[id_to_path[185302]]  #1124\n",
    "# print(mycoco.target_kp)\n",
    "print(hp.shape)\n",
    "print(img.shape)\n",
    "plt.imshow(np.stack(hp).max(axis=0))"
   ]
  },
  {
   "cell_type": "code",
   "execution_count": 91,
   "metadata": {},
   "outputs": [],
   "source": [
    "training_data = CustomCOCO(train_coco_json_path, train_coco_img_path)\n",
    "#test_data = CustomCOCO(test_coco_json_path, test_coco_img_path)"
   ]
  },
  {
   "cell_type": "code",
   "execution_count": 92,
   "metadata": {},
   "outputs": [],
   "source": [
    "train_dataloader = DataLoader(training_data, batch_size=16, shuffle=True)\n",
    "#test_dataloader = DataLoader(test_data, batch_size=64, shuffle=True)"
   ]
  },
  {
   "cell_type": "code",
   "execution_count": null,
   "metadata": {},
   "outputs": [],
   "source": [
    "for i, (image, label, visibility) in enumerate(train_dataloader):\n",
    "    #print(\"i: \",i)\n",
    "    #plt.imshow(image)\n",
    "    if i%10 == 0:\n",
    "        print(\"i: \", i)"
   ]
  }
 ],
 "metadata": {
  "kernelspec": {
   "display_name": "Python 3.8.13 ('cv')",
   "language": "python",
   "name": "python3"
  },
  "language_info": {
   "codemirror_mode": {
    "name": "ipython",
    "version": 3
   },
   "file_extension": ".py",
   "mimetype": "text/x-python",
   "name": "python",
   "nbconvert_exporter": "python",
   "pygments_lexer": "ipython3",
   "version": "3.8.13"
  },
  "orig_nbformat": 4,
  "vscode": {
   "interpreter": {
    "hash": "e73d7685138b7eb2ad9427bd1ae61da544d851fb0421f6c77d829cb8307c0749"
   }
  }
 },
 "nbformat": 4,
 "nbformat_minor": 2
}
