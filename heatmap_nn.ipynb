{
 "cells": [
  {
   "cell_type": "code",
   "execution_count": 27,
   "metadata": {},
   "outputs": [],
   "source": [
    "from ResNet50 import ResNet50\n",
    "from customCOCO import CustomCOCO"
   ]
  },
  {
   "cell_type": "code",
   "execution_count": 47,
   "metadata": {},
   "outputs": [],
   "source": [
    "import torch \n",
    "import torch.nn as nn\n",
    "import torch.optim as optim\n",
    "from torch.utils.data import DataLoader\n",
    "\n",
    "import numpy as np\n",
    "import random\n",
    "from tqdm import tqdm"
   ]
  },
  {
   "cell_type": "code",
   "execution_count": 16,
   "metadata": {},
   "outputs": [],
   "source": [
    "train_coco_json_path = '/home/sojeong/CV/deep-high-resolution-net.pytorch/data/coco/annotations/person_keypoints_train2017.json'\n",
    "train_coco_img_path  = '/home/sojeong/CV/deep-high-resolution-net.pytorch/data/coco/images/train2017/'\n",
    "test_coco_json_path = '/home/sojeong/CV/deep-high-resolution-net.pytorch/data/coco/annotations/person_keypoints_val2017.json'\n",
    "test_coco_img_path = '/home/sojeong/CV/deep-high-resolution-net.pytorch/data/coco/images/val2017'"
   ]
  },
  {
   "cell_type": "code",
   "execution_count": 41,
   "metadata": {},
   "outputs": [],
   "source": [
    "training_data = CustomCOCO(train_coco_json_path, train_coco_img_path)\n",
    "#test_data = CustomCOCO(test_coco_json_path, test_coco_img_path)"
   ]
  },
  {
   "cell_type": "code",
   "execution_count": 42,
   "metadata": {},
   "outputs": [],
   "source": [
    "train_dataloader = DataLoader(training_data, batch_size=16, shuffle=True)\n",
    "#test_dataloader = DataLoader(test_data, batch_size=64, shuffle=True)"
   ]
  },
  {
   "cell_type": "code",
   "execution_count": 48,
   "metadata": {},
   "outputs": [],
   "source": [
    "def reset_seed(seed):\n",
    "    torch.manual_seed(seed)\n",
    "    np.random.seed(seed)\n",
    "    random.seed(seed)"
   ]
  },
  {
   "cell_type": "code",
   "execution_count": 53,
   "metadata": {},
   "outputs": [],
   "source": [
    "def train(model, n_epoch, loader, optimizer, criterion, device=\"cpu\"):\n",
    "    model.train()\n",
    "    for epoch in tqdm(range(n_epoch)):\n",
    "        running_loss = 0.0\n",
    "        for i, (images, labels, visibility) in enumerate(loader):\n",
    "            images = images.to(device)\n",
    "            labels = labels.to(device)\n",
    "\n",
    "            optimizer.zero_grad()\n",
    "            outputs = model(images)\n",
    "            loss = criterion(input=outputs, target=labels)\n",
    "            loss.backward()\n",
    "            optimizer.step()\n",
    "            running_loss += loss.item()\n",
    "\n",
    "        print('Epoch {}, loss = {:.3f}'.format(epoch, running_loss/len(loader)))\n",
    "    \n",
    "    print('Training Finished')"
   ]
  },
  {
   "cell_type": "code",
   "execution_count": 54,
   "metadata": {},
   "outputs": [],
   "source": [
    "def test(model, loader, device=\"cpu\"):\n",
    "    model.eval()\n",
    "    total=0\n",
    "    correct=0\n",
    "    with torch.no_grad():\n",
    "        for data in loader:\n",
    "            images, labels = data\n",
    "            images = images.to(device)\n",
    "            labels = labels.to(device)\n",
    "            \n",
    "            outputs = model(images)\n",
    "            _, predicted = torch.max(outputs.data, 1)\n",
    "            total += labels.size(0)\n",
    "            correct += (predicted==labels).sum().item()\n",
    "    acc = 100*correct/total\n",
    "    \n",
    "    return acc\n"
   ]
  },
  {
   "cell_type": "code",
   "execution_count": 56,
   "metadata": {},
   "outputs": [
    {
     "ename": "RuntimeError",
     "evalue": "CUDA error: out of memory\nCUDA kernel errors might be asynchronously reported at some other API call,so the stacktrace below might be incorrect.\nFor debugging consider passing CUDA_LAUNCH_BLOCKING=1.",
     "output_type": "error",
     "traceback": [
      "\u001b[0;31m---------------------------------------------------------------------------\u001b[0m",
      "\u001b[0;31mRuntimeError\u001b[0m                              Traceback (most recent call last)",
      "\u001b[1;32m/home/sojeong/CV/resnet/heatmap_nn.ipynb Cell 9'\u001b[0m in \u001b[0;36m<cell line: 1>\u001b[0;34m()\u001b[0m\n\u001b[0;32m----> <a href='vscode-notebook-cell://ssh-remote%2Balpha/home/sojeong/CV/resnet/heatmap_nn.ipynb#ch0000002vscode-remote?line=0'>1</a>\u001b[0m reset_seed(\u001b[39m0\u001b[39;49m)\n\u001b[1;32m      <a href='vscode-notebook-cell://ssh-remote%2Balpha/home/sojeong/CV/resnet/heatmap_nn.ipynb#ch0000002vscode-remote?line=1'>2</a>\u001b[0m resnet_model \u001b[39m=\u001b[39m ResNet50()\n\u001b[1;32m      <a href='vscode-notebook-cell://ssh-remote%2Balpha/home/sojeong/CV/resnet/heatmap_nn.ipynb#ch0000002vscode-remote?line=2'>3</a>\u001b[0m criterion \u001b[39m=\u001b[39m nn\u001b[39m.\u001b[39mCrossEntropyLoss()\n",
      "\u001b[1;32m/home/sojeong/CV/resnet/heatmap_nn.ipynb Cell 6'\u001b[0m in \u001b[0;36mreset_seed\u001b[0;34m(seed)\u001b[0m\n\u001b[1;32m      <a href='vscode-notebook-cell://ssh-remote%2Balpha/home/sojeong/CV/resnet/heatmap_nn.ipynb#ch0000006vscode-remote?line=0'>1</a>\u001b[0m \u001b[39mdef\u001b[39;00m \u001b[39mreset_seed\u001b[39m(seed):\n\u001b[0;32m----> <a href='vscode-notebook-cell://ssh-remote%2Balpha/home/sojeong/CV/resnet/heatmap_nn.ipynb#ch0000006vscode-remote?line=1'>2</a>\u001b[0m   torch\u001b[39m.\u001b[39;49mmanual_seed(seed)\n\u001b[1;32m      <a href='vscode-notebook-cell://ssh-remote%2Balpha/home/sojeong/CV/resnet/heatmap_nn.ipynb#ch0000006vscode-remote?line=2'>3</a>\u001b[0m   np\u001b[39m.\u001b[39mrandom\u001b[39m.\u001b[39mseed(seed)\n\u001b[1;32m      <a href='vscode-notebook-cell://ssh-remote%2Balpha/home/sojeong/CV/resnet/heatmap_nn.ipynb#ch0000006vscode-remote?line=3'>4</a>\u001b[0m   random\u001b[39m.\u001b[39mseed(seed)\n",
      "File \u001b[0;32m~/anaconda3/envs/cv/lib/python3.8/site-packages/torch/random.py:40\u001b[0m, in \u001b[0;36mmanual_seed\u001b[0;34m(seed)\u001b[0m\n\u001b[1;32m     <a href='file:///home/sojeong/anaconda3/envs/cv/lib/python3.8/site-packages/torch/random.py?line=36'>37</a>\u001b[0m \u001b[39mimport\u001b[39;00m \u001b[39mtorch\u001b[39;00m\u001b[39m.\u001b[39;00m\u001b[39mcuda\u001b[39;00m\n\u001b[1;32m     <a href='file:///home/sojeong/anaconda3/envs/cv/lib/python3.8/site-packages/torch/random.py?line=38'>39</a>\u001b[0m \u001b[39mif\u001b[39;00m \u001b[39mnot\u001b[39;00m torch\u001b[39m.\u001b[39mcuda\u001b[39m.\u001b[39m_is_in_bad_fork():\n\u001b[0;32m---> <a href='file:///home/sojeong/anaconda3/envs/cv/lib/python3.8/site-packages/torch/random.py?line=39'>40</a>\u001b[0m     torch\u001b[39m.\u001b[39;49mcuda\u001b[39m.\u001b[39;49mmanual_seed_all(seed)\n\u001b[1;32m     <a href='file:///home/sojeong/anaconda3/envs/cv/lib/python3.8/site-packages/torch/random.py?line=41'>42</a>\u001b[0m \u001b[39mreturn\u001b[39;00m default_generator\u001b[39m.\u001b[39mmanual_seed(seed)\n",
      "File \u001b[0;32m~/anaconda3/envs/cv/lib/python3.8/site-packages/torch/cuda/random.py:113\u001b[0m, in \u001b[0;36mmanual_seed_all\u001b[0;34m(seed)\u001b[0m\n\u001b[1;32m    <a href='file:///home/sojeong/anaconda3/envs/cv/lib/python3.8/site-packages/torch/cuda/random.py?line=109'>110</a>\u001b[0m         default_generator \u001b[39m=\u001b[39m torch\u001b[39m.\u001b[39mcuda\u001b[39m.\u001b[39mdefault_generators[i]\n\u001b[1;32m    <a href='file:///home/sojeong/anaconda3/envs/cv/lib/python3.8/site-packages/torch/cuda/random.py?line=110'>111</a>\u001b[0m         default_generator\u001b[39m.\u001b[39mmanual_seed(seed)\n\u001b[0;32m--> <a href='file:///home/sojeong/anaconda3/envs/cv/lib/python3.8/site-packages/torch/cuda/random.py?line=112'>113</a>\u001b[0m _lazy_call(cb, seed_all\u001b[39m=\u001b[39;49m\u001b[39mTrue\u001b[39;49;00m)\n",
      "File \u001b[0;32m~/anaconda3/envs/cv/lib/python3.8/site-packages/torch/cuda/__init__.py:155\u001b[0m, in \u001b[0;36m_lazy_call\u001b[0;34m(callable, **kwargs)\u001b[0m\n\u001b[1;32m    <a href='file:///home/sojeong/anaconda3/envs/cv/lib/python3.8/site-packages/torch/cuda/__init__.py?line=152'>153</a>\u001b[0m \u001b[39mdef\u001b[39;00m \u001b[39m_lazy_call\u001b[39m(callable, \u001b[39m*\u001b[39m\u001b[39m*\u001b[39mkwargs):\n\u001b[1;32m    <a href='file:///home/sojeong/anaconda3/envs/cv/lib/python3.8/site-packages/torch/cuda/__init__.py?line=153'>154</a>\u001b[0m     \u001b[39mif\u001b[39;00m is_initialized():\n\u001b[0;32m--> <a href='file:///home/sojeong/anaconda3/envs/cv/lib/python3.8/site-packages/torch/cuda/__init__.py?line=154'>155</a>\u001b[0m         callable()\n\u001b[1;32m    <a href='file:///home/sojeong/anaconda3/envs/cv/lib/python3.8/site-packages/torch/cuda/__init__.py?line=155'>156</a>\u001b[0m     \u001b[39melse\u001b[39;00m:\n\u001b[1;32m    <a href='file:///home/sojeong/anaconda3/envs/cv/lib/python3.8/site-packages/torch/cuda/__init__.py?line=156'>157</a>\u001b[0m         \u001b[39m# TODO(torch_deploy): this accesses linecache, which attempts to read the\u001b[39;00m\n\u001b[1;32m    <a href='file:///home/sojeong/anaconda3/envs/cv/lib/python3.8/site-packages/torch/cuda/__init__.py?line=157'>158</a>\u001b[0m         \u001b[39m# file system to get traceback info. Patch linecache or do something\u001b[39;00m\n\u001b[1;32m    <a href='file:///home/sojeong/anaconda3/envs/cv/lib/python3.8/site-packages/torch/cuda/__init__.py?line=158'>159</a>\u001b[0m         \u001b[39m# else here if this ends up being important.\u001b[39;00m\n\u001b[1;32m    <a href='file:///home/sojeong/anaconda3/envs/cv/lib/python3.8/site-packages/torch/cuda/__init__.py?line=159'>160</a>\u001b[0m         \u001b[39mglobal\u001b[39;00m _lazy_seed_tracker\n",
      "File \u001b[0;32m~/anaconda3/envs/cv/lib/python3.8/site-packages/torch/cuda/random.py:111\u001b[0m, in \u001b[0;36mmanual_seed_all.<locals>.cb\u001b[0;34m()\u001b[0m\n\u001b[1;32m    <a href='file:///home/sojeong/anaconda3/envs/cv/lib/python3.8/site-packages/torch/cuda/random.py?line=108'>109</a>\u001b[0m \u001b[39mfor\u001b[39;00m i \u001b[39min\u001b[39;00m \u001b[39mrange\u001b[39m(device_count()):\n\u001b[1;32m    <a href='file:///home/sojeong/anaconda3/envs/cv/lib/python3.8/site-packages/torch/cuda/random.py?line=109'>110</a>\u001b[0m     default_generator \u001b[39m=\u001b[39m torch\u001b[39m.\u001b[39mcuda\u001b[39m.\u001b[39mdefault_generators[i]\n\u001b[0;32m--> <a href='file:///home/sojeong/anaconda3/envs/cv/lib/python3.8/site-packages/torch/cuda/random.py?line=110'>111</a>\u001b[0m     default_generator\u001b[39m.\u001b[39;49mmanual_seed(seed)\n",
      "\u001b[0;31mRuntimeError\u001b[0m: CUDA error: out of memory\nCUDA kernel errors might be asynchronously reported at some other API call,so the stacktrace below might be incorrect.\nFor debugging consider passing CUDA_LAUNCH_BLOCKING=1."
     ]
    }
   ],
   "source": [
    "reset_seed(0)\n",
    "resnet_model = ResNet50()\n",
    "criterion = nn.CrossEntropyLoss()\n",
    "optimizer = optim.SGD(params=resnet_model.parameters(), lr=0.1, momentum=0.9)\n",
    "\n",
    "## train\n",
    "train(model=resnet_model, n_epoch=3, loader=train_dataloader, optimizer=optimizer, criterion=criterion, device=\"cuda\")\n",
    "## test\n",
    "#resnet_acc = test(resnet_model, testloader, device=\"cuda\")\n",
    "\n",
    "print('ResNet Test accuracy: {:.2f}%'.format(resnet_acc))"
   ]
  },
  {
   "cell_type": "code",
   "execution_count": null,
   "metadata": {},
   "outputs": [],
   "source": []
  }
 ],
 "metadata": {
  "kernelspec": {
   "display_name": "Python 3.8.13 ('cv')",
   "language": "python",
   "name": "python3"
  },
  "language_info": {
   "codemirror_mode": {
    "name": "ipython",
    "version": 3
   },
   "file_extension": ".py",
   "mimetype": "text/x-python",
   "name": "python",
   "nbconvert_exporter": "python",
   "pygments_lexer": "ipython3",
   "version": "3.8.13"
  },
  "orig_nbformat": 4,
  "vscode": {
   "interpreter": {
    "hash": "e73d7685138b7eb2ad9427bd1ae61da544d851fb0421f6c77d829cb8307c0749"
   }
  }
 },
 "nbformat": 4,
 "nbformat_minor": 2
}
