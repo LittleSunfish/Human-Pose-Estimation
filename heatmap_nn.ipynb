{
 "cells": [
  {
   "cell_type": "code",
   "execution_count": 57,
   "metadata": {},
   "outputs": [],
   "source": [
    "from ResNet50_HPE import ResNet50\n",
    "from customCOCO import CustomCOCO"
   ]
  },
  {
   "cell_type": "code",
   "execution_count": 49,
   "metadata": {},
   "outputs": [],
   "source": [
    "import torch \n",
    "import torch.nn as nn\n",
    "import torch.optim as optim\n",
    "from torch.utils.data import DataLoader\n",
    "\n",
    "import numpy as np\n",
    "import random\n",
    "from tqdm import tqdm"
   ]
  },
  {
   "cell_type": "code",
   "execution_count": 50,
   "metadata": {},
   "outputs": [],
   "source": [
    "train_coco_json_path = '/home/sojeong/CV/deep-high-resolution-net.pytorch/data/coco/annotations/person_keypoints_train2017.json'\n",
    "train_coco_img_path  = '/home/sojeong/CV/deep-high-resolution-net.pytorch/data/coco/images/train2017/'\n",
    "test_coco_json_path = '/home/sojeong/CV/deep-high-resolution-net.pytorch/data/coco/annotations/person_keypoints_val2017.json'\n",
    "test_coco_img_path = '/home/sojeong/CV/deep-high-resolution-net.pytorch/data/coco/images/val2017'"
   ]
  },
  {
   "cell_type": "code",
   "execution_count": 51,
   "metadata": {},
   "outputs": [],
   "source": [
    "training_data = CustomCOCO(train_coco_json_path, train_coco_img_path)\n",
    "#test_data = CustomCOCO(test_coco_json_path, test_coco_img_path)"
   ]
  },
  {
   "cell_type": "code",
   "execution_count": 52,
   "metadata": {},
   "outputs": [],
   "source": [
    "train_dataloader = DataLoader(training_data, batch_size=1, shuffle=True)\n",
    "#test_dataloader = DataLoader(test_data, batch_size=64, shuffle=True)"
   ]
  },
  {
   "cell_type": "code",
   "execution_count": 53,
   "metadata": {},
   "outputs": [],
   "source": [
    "def reset_seed(seed):\n",
    "    torch.manual_seed(seed)\n",
    "    np.random.seed(seed)\n",
    "    random.seed(seed)"
   ]
  },
  {
   "cell_type": "code",
   "execution_count": 54,
   "metadata": {},
   "outputs": [],
   "source": [
    "def test(model, loader, device=\"cpu\"):\n",
    "    model.eval()\n",
    "    total=0\n",
    "    correct=0\n",
    "    with torch.no_grad():\n",
    "        for data in loader:\n",
    "            images, labels = data\n",
    "            images = images.to(device)\n",
    "            labels = labels.to(device)\n",
    "            \n",
    "            outputs = model(images)\n",
    "            _, predicted = torch.max(outputs.data, 1)\n",
    "            total += labels.size(0)\n",
    "            correct += (predicted==labels).sum().item()\n",
    "    acc = 100*correct/total\n",
    "    \n",
    "    return acc\n"
   ]
  },
  {
   "cell_type": "code",
   "execution_count": 55,
   "metadata": {},
   "outputs": [],
   "source": [
    "def train(model, n_epoch, loader, optimizer, criterion, device=\"cpu\"):\n",
    "    model.train()\n",
    "    for epoch in tqdm(range(n_epoch)):\n",
    "        running_loss = 0.0\n",
    "        for i, (images, labels, visibility) in enumerate(loader):\n",
    "            images = images.to(device)\n",
    "            labels = labels.to(device)\n",
    "\n",
    "            optimizer.zero_grad()\n",
    "            outputs = model(images)\n",
    "            print(\"size of outputs: \", outputs.shape)\n",
    "            print(\"size of labels: \", labels.shape)\n",
    "            loss = criterion(input=outputs, target=labels)\n",
    "            loss.backward()\n",
    "            optimizer.step()\n",
    "            running_loss += loss.item()\n",
    "\n",
    "        print('Epoch {}, loss = {:.3f}'.format(epoch, running_loss/len(loader)))\n",
    "    \n",
    "    print('Training Finished')"
   ]
  },
  {
   "cell_type": "code",
   "execution_count": 56,
   "metadata": {},
   "outputs": [
    {
     "name": "stderr",
     "output_type": "stream",
     "text": [
      "  0%|          | 0/3 [00:00<?, ?it/s]"
     ]
    },
    {
     "name": "stdout",
     "output_type": "stream",
     "text": [
      "size of outputs:  torch.Size([1, 17, 64, 48])\n",
      "size of labels:  torch.Size([1, 17, 256, 192])\n"
     ]
    },
    {
     "name": "stderr",
     "output_type": "stream",
     "text": [
      "\n"
     ]
    },
    {
     "ename": "RuntimeError",
     "evalue": "The size of tensor a (48) must match the size of tensor b (192) at non-singleton dimension 3",
     "output_type": "error",
     "traceback": [
      "\u001b[0;31m---------------------------------------------------------------------------\u001b[0m",
      "\u001b[0;31mRuntimeError\u001b[0m                              Traceback (most recent call last)",
      "\u001b[1;32m/home/sojeong/CV/resnet/heatmap_nn.ipynb Cell 9'\u001b[0m in \u001b[0;36m<cell line: 7>\u001b[0;34m()\u001b[0m\n\u001b[1;32m      <a href='vscode-notebook-cell://ssh-remote%2Balpha/home/sojeong/CV/resnet/heatmap_nn.ipynb#ch0000008vscode-remote?line=3'>4</a>\u001b[0m optimizer \u001b[39m=\u001b[39m optim\u001b[39m.\u001b[39mSGD(params\u001b[39m=\u001b[39mresnet_model\u001b[39m.\u001b[39mparameters(), lr\u001b[39m=\u001b[39m\u001b[39m0.1\u001b[39m, momentum\u001b[39m=\u001b[39m\u001b[39m0.9\u001b[39m)\n\u001b[1;32m      <a href='vscode-notebook-cell://ssh-remote%2Balpha/home/sojeong/CV/resnet/heatmap_nn.ipynb#ch0000008vscode-remote?line=5'>6</a>\u001b[0m \u001b[39m## train\u001b[39;00m\n\u001b[0;32m----> <a href='vscode-notebook-cell://ssh-remote%2Balpha/home/sojeong/CV/resnet/heatmap_nn.ipynb#ch0000008vscode-remote?line=6'>7</a>\u001b[0m train(model\u001b[39m=\u001b[39;49mresnet_model, n_epoch\u001b[39m=\u001b[39;49m\u001b[39m3\u001b[39;49m, loader\u001b[39m=\u001b[39;49mtrain_dataloader, optimizer\u001b[39m=\u001b[39;49moptimizer, criterion\u001b[39m=\u001b[39;49mcriterion, device\u001b[39m=\u001b[39;49m\u001b[39m\"\u001b[39;49m\u001b[39mcuda\u001b[39;49m\u001b[39m\"\u001b[39;49m)\n\u001b[1;32m      <a href='vscode-notebook-cell://ssh-remote%2Balpha/home/sojeong/CV/resnet/heatmap_nn.ipynb#ch0000008vscode-remote?line=7'>8</a>\u001b[0m \u001b[39m## test\u001b[39;00m\n\u001b[1;32m      <a href='vscode-notebook-cell://ssh-remote%2Balpha/home/sojeong/CV/resnet/heatmap_nn.ipynb#ch0000008vscode-remote?line=8'>9</a>\u001b[0m \u001b[39m#resnet_acc = test(resnet_model, testloader, device=\"cuda\")\u001b[39;00m\n\u001b[1;32m     <a href='vscode-notebook-cell://ssh-remote%2Balpha/home/sojeong/CV/resnet/heatmap_nn.ipynb#ch0000008vscode-remote?line=10'>11</a>\u001b[0m \u001b[39mprint\u001b[39m(\u001b[39m'\u001b[39m\u001b[39mResNet Test accuracy: \u001b[39m\u001b[39m{:.2f}\u001b[39;00m\u001b[39m%\u001b[39m\u001b[39m'\u001b[39m\u001b[39m.\u001b[39mformat(resnet_acc))\n",
      "\u001b[1;32m/home/sojeong/CV/resnet/heatmap_nn.ipynb Cell 8'\u001b[0m in \u001b[0;36mtrain\u001b[0;34m(model, n_epoch, loader, optimizer, criterion, device)\u001b[0m\n\u001b[1;32m     <a href='vscode-notebook-cell://ssh-remote%2Balpha/home/sojeong/CV/resnet/heatmap_nn.ipynb#ch0000006vscode-remote?line=10'>11</a>\u001b[0m \u001b[39mprint\u001b[39m(\u001b[39m\"\u001b[39m\u001b[39msize of outputs: \u001b[39m\u001b[39m\"\u001b[39m, outputs\u001b[39m.\u001b[39mshape)\n\u001b[1;32m     <a href='vscode-notebook-cell://ssh-remote%2Balpha/home/sojeong/CV/resnet/heatmap_nn.ipynb#ch0000006vscode-remote?line=11'>12</a>\u001b[0m \u001b[39mprint\u001b[39m(\u001b[39m\"\u001b[39m\u001b[39msize of labels: \u001b[39m\u001b[39m\"\u001b[39m, labels\u001b[39m.\u001b[39mshape)\n\u001b[0;32m---> <a href='vscode-notebook-cell://ssh-remote%2Balpha/home/sojeong/CV/resnet/heatmap_nn.ipynb#ch0000006vscode-remote?line=12'>13</a>\u001b[0m loss \u001b[39m=\u001b[39m criterion(\u001b[39minput\u001b[39;49m\u001b[39m=\u001b[39;49moutputs, target\u001b[39m=\u001b[39;49mlabels)\n\u001b[1;32m     <a href='vscode-notebook-cell://ssh-remote%2Balpha/home/sojeong/CV/resnet/heatmap_nn.ipynb#ch0000006vscode-remote?line=13'>14</a>\u001b[0m loss\u001b[39m.\u001b[39mbackward()\n\u001b[1;32m     <a href='vscode-notebook-cell://ssh-remote%2Balpha/home/sojeong/CV/resnet/heatmap_nn.ipynb#ch0000006vscode-remote?line=14'>15</a>\u001b[0m optimizer\u001b[39m.\u001b[39mstep()\n",
      "File \u001b[0;32m~/anaconda3/envs/cv/lib/python3.8/site-packages/torch/nn/modules/module.py:1110\u001b[0m, in \u001b[0;36mModule._call_impl\u001b[0;34m(self, *input, **kwargs)\u001b[0m\n\u001b[1;32m   <a href='file:///home/sojeong/anaconda3/envs/cv/lib/python3.8/site-packages/torch/nn/modules/module.py?line=1105'>1106</a>\u001b[0m \u001b[39m# If we don't have any hooks, we want to skip the rest of the logic in\u001b[39;00m\n\u001b[1;32m   <a href='file:///home/sojeong/anaconda3/envs/cv/lib/python3.8/site-packages/torch/nn/modules/module.py?line=1106'>1107</a>\u001b[0m \u001b[39m# this function, and just call forward.\u001b[39;00m\n\u001b[1;32m   <a href='file:///home/sojeong/anaconda3/envs/cv/lib/python3.8/site-packages/torch/nn/modules/module.py?line=1107'>1108</a>\u001b[0m \u001b[39mif\u001b[39;00m \u001b[39mnot\u001b[39;00m (\u001b[39mself\u001b[39m\u001b[39m.\u001b[39m_backward_hooks \u001b[39mor\u001b[39;00m \u001b[39mself\u001b[39m\u001b[39m.\u001b[39m_forward_hooks \u001b[39mor\u001b[39;00m \u001b[39mself\u001b[39m\u001b[39m.\u001b[39m_forward_pre_hooks \u001b[39mor\u001b[39;00m _global_backward_hooks\n\u001b[1;32m   <a href='file:///home/sojeong/anaconda3/envs/cv/lib/python3.8/site-packages/torch/nn/modules/module.py?line=1108'>1109</a>\u001b[0m         \u001b[39mor\u001b[39;00m _global_forward_hooks \u001b[39mor\u001b[39;00m _global_forward_pre_hooks):\n\u001b[0;32m-> <a href='file:///home/sojeong/anaconda3/envs/cv/lib/python3.8/site-packages/torch/nn/modules/module.py?line=1109'>1110</a>\u001b[0m     \u001b[39mreturn\u001b[39;00m forward_call(\u001b[39m*\u001b[39;49m\u001b[39minput\u001b[39;49m, \u001b[39m*\u001b[39;49m\u001b[39m*\u001b[39;49mkwargs)\n\u001b[1;32m   <a href='file:///home/sojeong/anaconda3/envs/cv/lib/python3.8/site-packages/torch/nn/modules/module.py?line=1110'>1111</a>\u001b[0m \u001b[39m# Do not call functions when jit is used\u001b[39;00m\n\u001b[1;32m   <a href='file:///home/sojeong/anaconda3/envs/cv/lib/python3.8/site-packages/torch/nn/modules/module.py?line=1111'>1112</a>\u001b[0m full_backward_hooks, non_full_backward_hooks \u001b[39m=\u001b[39m [], []\n",
      "File \u001b[0;32m~/anaconda3/envs/cv/lib/python3.8/site-packages/torch/nn/modules/loss.py:529\u001b[0m, in \u001b[0;36mMSELoss.forward\u001b[0;34m(self, input, target)\u001b[0m\n\u001b[1;32m    <a href='file:///home/sojeong/anaconda3/envs/cv/lib/python3.8/site-packages/torch/nn/modules/loss.py?line=527'>528</a>\u001b[0m \u001b[39mdef\u001b[39;00m \u001b[39mforward\u001b[39m(\u001b[39mself\u001b[39m, \u001b[39minput\u001b[39m: Tensor, target: Tensor) \u001b[39m-\u001b[39m\u001b[39m>\u001b[39m Tensor:\n\u001b[0;32m--> <a href='file:///home/sojeong/anaconda3/envs/cv/lib/python3.8/site-packages/torch/nn/modules/loss.py?line=528'>529</a>\u001b[0m     \u001b[39mreturn\u001b[39;00m F\u001b[39m.\u001b[39;49mmse_loss(\u001b[39minput\u001b[39;49m, target, reduction\u001b[39m=\u001b[39;49m\u001b[39mself\u001b[39;49m\u001b[39m.\u001b[39;49mreduction)\n",
      "File \u001b[0;32m~/anaconda3/envs/cv/lib/python3.8/site-packages/torch/nn/functional.py:3261\u001b[0m, in \u001b[0;36mmse_loss\u001b[0;34m(input, target, size_average, reduce, reduction)\u001b[0m\n\u001b[1;32m   <a href='file:///home/sojeong/anaconda3/envs/cv/lib/python3.8/site-packages/torch/nn/functional.py?line=3257'>3258</a>\u001b[0m \u001b[39mif\u001b[39;00m size_average \u001b[39mis\u001b[39;00m \u001b[39mnot\u001b[39;00m \u001b[39mNone\u001b[39;00m \u001b[39mor\u001b[39;00m reduce \u001b[39mis\u001b[39;00m \u001b[39mnot\u001b[39;00m \u001b[39mNone\u001b[39;00m:\n\u001b[1;32m   <a href='file:///home/sojeong/anaconda3/envs/cv/lib/python3.8/site-packages/torch/nn/functional.py?line=3258'>3259</a>\u001b[0m     reduction \u001b[39m=\u001b[39m _Reduction\u001b[39m.\u001b[39mlegacy_get_string(size_average, reduce)\n\u001b[0;32m-> <a href='file:///home/sojeong/anaconda3/envs/cv/lib/python3.8/site-packages/torch/nn/functional.py?line=3260'>3261</a>\u001b[0m expanded_input, expanded_target \u001b[39m=\u001b[39m torch\u001b[39m.\u001b[39;49mbroadcast_tensors(\u001b[39minput\u001b[39;49m, target)\n\u001b[1;32m   <a href='file:///home/sojeong/anaconda3/envs/cv/lib/python3.8/site-packages/torch/nn/functional.py?line=3261'>3262</a>\u001b[0m \u001b[39mreturn\u001b[39;00m torch\u001b[39m.\u001b[39m_C\u001b[39m.\u001b[39m_nn\u001b[39m.\u001b[39mmse_loss(expanded_input, expanded_target, _Reduction\u001b[39m.\u001b[39mget_enum(reduction))\n",
      "File \u001b[0;32m~/anaconda3/envs/cv/lib/python3.8/site-packages/torch/functional.py:75\u001b[0m, in \u001b[0;36mbroadcast_tensors\u001b[0;34m(*tensors)\u001b[0m\n\u001b[1;32m     <a href='file:///home/sojeong/anaconda3/envs/cv/lib/python3.8/site-packages/torch/functional.py?line=72'>73</a>\u001b[0m \u001b[39mif\u001b[39;00m has_torch_function(tensors):\n\u001b[1;32m     <a href='file:///home/sojeong/anaconda3/envs/cv/lib/python3.8/site-packages/torch/functional.py?line=73'>74</a>\u001b[0m     \u001b[39mreturn\u001b[39;00m handle_torch_function(broadcast_tensors, tensors, \u001b[39m*\u001b[39mtensors)\n\u001b[0;32m---> <a href='file:///home/sojeong/anaconda3/envs/cv/lib/python3.8/site-packages/torch/functional.py?line=74'>75</a>\u001b[0m \u001b[39mreturn\u001b[39;00m _VF\u001b[39m.\u001b[39;49mbroadcast_tensors(tensors)\n",
      "\u001b[0;31mRuntimeError\u001b[0m: The size of tensor a (48) must match the size of tensor b (192) at non-singleton dimension 3"
     ]
    }
   ],
   "source": [
    "#reset_seed(0)\n",
    "resnet_model = ResNet50().cuda()\n",
    "criterion = nn.MSELoss(reduction=None)\n",
    "optimizer = optim.SGD(params=resnet_model.parameters(), lr=0.1, momentum=0.9)\n",
    "\n",
    "## train\n",
    "train(model=resnet_model, n_epoch=3, loader=train_dataloader, optimizer=optimizer, criterion=criterion, device=\"cuda\")\n",
    "## test\n",
    "#resnet_acc = test(resnet_model, testloader, device=\"cuda\")\n",
    "\n",
    "print('ResNet Test accuracy: {:.2f}%'.format(resnet_acc))"
   ]
  },
  {
   "cell_type": "code",
   "execution_count": null,
   "metadata": {},
   "outputs": [],
   "source": []
  }
 ],
 "metadata": {
  "kernelspec": {
   "display_name": "Python 3.8.13 ('cv')",
   "language": "python",
   "name": "python3"
  },
  "language_info": {
   "codemirror_mode": {
    "name": "ipython",
    "version": 3
   },
   "file_extension": ".py",
   "mimetype": "text/x-python",
   "name": "python",
   "nbconvert_exporter": "python",
   "pygments_lexer": "ipython3",
   "version": "3.8.13"
  },
  "orig_nbformat": 4,
  "vscode": {
   "interpreter": {
    "hash": "e73d7685138b7eb2ad9427bd1ae61da544d851fb0421f6c77d829cb8307c0749"
   }
  }
 },
 "nbformat": 4,
 "nbformat_minor": 2
}
