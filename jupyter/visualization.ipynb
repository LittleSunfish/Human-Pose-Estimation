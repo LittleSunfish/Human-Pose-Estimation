{
 "cells": [
  {
   "cell_type": "code",
   "execution_count": 1,
   "metadata": {},
   "outputs": [],
   "source": [
    "import torch"
   ]
  },
  {
   "cell_type": "code",
   "execution_count": 3,
   "metadata": {},
   "outputs": [],
   "source": [
    "# save image with joints for single batch\n",
    "# the parameter should be the output of the dataloader\n",
    "def save_batch_image_with_joints(batch_image, batch_joints, batch_visibility, file_name, padding=2):\n",
    "    grid = torchvision.utils.make_grid(batch_image, nrow, padding, True)\n",
    "    ndarr = grid.mul(255).clamp(0, 255).byte().permute(1, 2, 0).cpu().numpy()\n",
    "    ndarr = ndarr.copy()\n",
    "\n",
    "    height = int(batch_image.size(2) + padding)\n",
    "    width = int(batch_image.size(3) + padding)\n",
    "    for batch in range(batch_image.size(0)):\n",
    "        joints = batch_joints[batch]\n",
    "        joints_vis = batch_visibility[batch]\n",
    "\n",
    "        for joints, joints_vis in zip(joints, joints_vis):\n",
    "            joint[0] = batch * width + padding + joint[0]\n",
    "            joint[1] = height + padding + joint[1]\n",
    "            if joint_vis[0]:\n",
    "                cv2.circle(ndarr, (int(joint[0]), int(joint[1])), 2, [255,0,0], 2)\n",
    "\n",
    "    cv2.imwrite(file_name, ndarr)"
   ]
  },
  {
   "cell_type": "code",
   "execution_count": 5,
   "metadata": {},
   "outputs": [],
   "source": [
    "# save heatmaps (# of images per batch) for single batch \n",
    "def save_batch_heatmaps(batch_image, batch_labels, file_name, normalize=True):\n",
    "\n",
    "\n",
    "\n",
    "    raise NotImplementedError"
   ]
  },
  {
   "cell_type": "code",
   "execution_count": null,
   "metadata": {},
   "outputs": [],
   "source": []
  }
 ],
 "metadata": {
  "kernelspec": {
   "display_name": "Python 3.8.13 ('cv')",
   "language": "python",
   "name": "python3"
  },
  "language_info": {
   "codemirror_mode": {
    "name": "ipython",
    "version": 3
   },
   "file_extension": ".py",
   "mimetype": "text/x-python",
   "name": "python",
   "nbconvert_exporter": "python",
   "pygments_lexer": "ipython3",
   "version": "3.8.13"
  },
  "orig_nbformat": 4,
  "vscode": {
   "interpreter": {
    "hash": "e73d7685138b7eb2ad9427bd1ae61da544d851fb0421f6c77d829cb8307c0749"
   }
  }
 },
 "nbformat": 4,
 "nbformat_minor": 2
}
