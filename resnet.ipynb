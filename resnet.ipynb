{
 "cells": [
  {
   "cell_type": "code",
   "execution_count": 76,
   "metadata": {},
   "outputs": [],
   "source": [
    "import torch\n",
    "import torch.nn as nn\n",
    "import torch.nn.functional as F"
   ]
  },
  {
   "cell_type": "code",
   "execution_count": 85,
   "metadata": {},
   "outputs": [],
   "source": [
    "class Bottleneck(nn.Module):\n",
    "\n",
    "    def __init__(self, in_channels, reduced_channels, out_channels, stride=1, starting=False):\n",
    "        super(Bottleneck, self).__init__()\n",
    "        \n",
    "        self.conv1 = nn.Sequential(\n",
    "            nn.Conv2d(in_channels, reduced_channels, kernel_size=1, bias=False),\n",
    "            nn.BatchNorm2d(reduced_channels),\n",
    "            nn.ReLU(inplace=True)\n",
    "        ) \n",
    "        self.conv2 = nn.Sequential(\n",
    "            nn.Conv2d(reduced_channels, reduced_channels, kernel_size=3, stride=stride, padding=1, bias=False),\n",
    "            nn.BatchNorm2d(reduced_channels),\n",
    "            nn.ReLU(inplace=True)\n",
    "        )\n",
    "        self.conv3 = nn.Sequential(\n",
    "            nn.Conv2d(reduced_channels, out_channels, kernel_size=1, bias=False),\n",
    "            nn.BatchNorm2d(out_channels),\n",
    "        )\n",
    "        self.shortcut = nn.Sequential()\n",
    "\n",
    "        if in_channels != out_channels:\n",
    "            self.shortcut.add_module(\n",
    "                'conv',\n",
    "                nn.Conv2d(\n",
    "                    in_channels,\n",
    "                    out_channels,\n",
    "                    kernel_size=1,\n",
    "                    stride=stride,  # downsample\n",
    "                    padding=0,\n",
    "                    bias=False))\n",
    "            self.shortcut.add_module('bn', nn.BatchNorm2d(out_channels))  # BN\n",
    "        self.final_relu = nn.ReLU(inplace=True)\n",
    "\n",
    "\n",
    "    def forward(self, x):\n",
    "        out = self.conv1(x)\n",
    "        print(f\"size of self.conv1: {out.size()}\")\n",
    "        out = self.conv2(out)\n",
    "        print(f\"size of self.conv2: {out.size()}\")\n",
    "        # print(f\"size of self.shortcut(x): {self.shortcut(x).size()}\")\n",
    "        out = self.conv3(out) + self.shortcut(x)\n",
    "        out = self.final_relu(out)\n",
    "        print(f\"size of output of bottleneck: {out.size()}\")\n",
    "        return out\n"
   ]
  },
  {
   "cell_type": "code",
   "execution_count": 89,
   "metadata": {},
   "outputs": [],
   "source": [
    "class ResNet50(nn.Module):\n",
    "\n",
    "    def __init__(self, num_classes=1000):\n",
    "        super(ResNet50, self).__init__()\n",
    "        self.num_blocks = [3,4,6,3]\n",
    "        # Conv1 layer: 224*224*3 -> 112*112*64\n",
    "        # self.conv1 = nn.Sequential(\n",
    "        #     nn.Conv2d(in_channels=3, out_channels=64, kernel_size=7, stride=2, padding=4),\n",
    "        #     nn.BatchNorm2d(num_features=64),\n",
    "        #     nn.ReLU(inplace=True),\n",
    "        #     #nn.MaxPool2d(kernel_size=3, stride=2)\n",
    "        # )\n",
    "        self.conv1 = nn.Conv2d(in_channels=3, out_channels=64, kernel_size=7, stride=2, padding=4)\n",
    "        self.bn1 = nn.BatchNorm2d(num_features=64)\n",
    "        self.rl1 = nn.ReLU(inplace=True)\n",
    "        self.max1 = nn.MaxPool2d(kernel_size=3, stride=2)\n",
    "\n",
    "        #self.conv2 = self._make_layer(in_channels=64, reduced_channels=64, out_channels=256, num_blocks=self.num_blocks[0], stride=1)\n",
    "        #self.conv3 = self._make_layer(in_channels=256, reduced_channels=128, out_channels=512, num_blocks=self.num_blocks[1], stride=2)\n",
    "        #self.conv4 = self._make_layer(in_channels=512, reduced_channels=256, out_channels=1024, num_blocks=self.num_blocks[2], stride=2)\n",
    "        #self.conv5 = self._make_layer(in_channels=1024, reduced_channels=512, out_channels=2048, num_blocks=self.num_blocks[3], stride=2)\n",
    "        \n",
    "        self.avg = nn.AvgPool2d(kernel_size=7, stride=1)\n",
    "        # FC layer, after applied 'avg pooling'\n",
    "        self.fc1 = nn.Sequential(\n",
    "            nn.Linear(in_features=2048, out_features=1000)\n",
    "        )\n",
    "\n",
    "    def _make_layer(self, in_channels, reduced_channels, out_channels, num_blocks, stride=1):\n",
    "        pass\n",
    "        layers = []\n",
    "        strides = [stride] + [1]*(num_blocks-1)\n",
    "        print(\"num blocks: \", num_blocks)\n",
    "\n",
    "        for i, s in enumerate(strides):\n",
    "            print(f\"i: {i}\")\n",
    "            bottleneck_layer = Bottleneck(in_channels, reduced_channels, out_channels, s)\n",
    "            layers.append(bottleneck_layer)\n",
    "            in_channels = in_channels *4\n",
    "        print(\"Done\")\n",
    "        \n",
    "        return nn.Sequential(*layers)\n",
    "\n",
    "    def forward(self, x):\n",
    "        print(\"input size: \", x.size())\n",
    "        print(\"Start foward pass\")\n",
    "        out = self.max1(self.rl1(self.bn1(self.conv1(x))))\n",
    "        print(\"ResNet50 self.conv1 done, size: \", self.conv1(x).size())\n",
    "        out = self.conv2(out)\n",
    "        print(\"ResNet50 self.conv2 done\")\n",
    "        out = self.conv3(out)\n",
    "        # print(\"ResNet50 self.conv3 done\")\n",
    "        # out = self.conv4(out)\n",
    "        # print(\"ResNet50 self.conv4 done\")\n",
    "        # out = self.conv5(out)\n",
    "        out = out.view(out.size(0), -1)\n",
    "        out = nn.avg(out)\n",
    "        out = self.fc1(out)\n",
    "        return out"
   ]
  },
  {
   "cell_type": "code",
   "execution_count": 90,
   "metadata": {},
   "outputs": [
    {
     "name": "stdout",
     "output_type": "stream",
     "text": [
      "input size:  torch.Size([2, 3, 28, 28])\n",
      "Start foward pass\n"
     ]
    },
    {
     "ename": "RuntimeError",
     "evalue": "Input type (torch.cuda.FloatTensor) and weight type (torch.FloatTensor) should be the same",
     "output_type": "error",
     "traceback": [
      "\u001b[0;31m---------------------------------------------------------------------------\u001b[0m",
      "\u001b[0;31mRuntimeError\u001b[0m                              Traceback (most recent call last)",
      "\u001b[1;32m/home/sojeong/CV/resnet/resnet.ipynb Cell 4'\u001b[0m in \u001b[0;36m<cell line: 4>\u001b[0;34m()\u001b[0m\n\u001b[1;32m      <a href='vscode-notebook-cell://ssh-remote%2Balpha/home/sojeong/CV/resnet/resnet.ipynb#ch0000002vscode-remote?line=0'>1</a>\u001b[0m \u001b[39mfrom\u001b[39;00m \u001b[39mtorchsummary\u001b[39;00m \u001b[39mimport\u001b[39;00m summary\n\u001b[1;32m      <a href='vscode-notebook-cell://ssh-remote%2Balpha/home/sojeong/CV/resnet/resnet.ipynb#ch0000002vscode-remote?line=2'>3</a>\u001b[0m resnet \u001b[39m=\u001b[39m ResNet50()\n\u001b[0;32m----> <a href='vscode-notebook-cell://ssh-remote%2Balpha/home/sojeong/CV/resnet/resnet.ipynb#ch0000002vscode-remote?line=3'>4</a>\u001b[0m summary(resnet, input_size\u001b[39m=\u001b[39;49m(\u001b[39m3\u001b[39;49m,\u001b[39m28\u001b[39;49m,\u001b[39m28\u001b[39;49m))\n",
      "File \u001b[0;32m~/anaconda3/envs/cv/lib/python3.8/site-packages/torchsummary/torchsummary.py:72\u001b[0m, in \u001b[0;36msummary\u001b[0;34m(model, input_size, batch_size, device)\u001b[0m\n\u001b[1;32m     <a href='file:///home/sojeong/anaconda3/envs/cv/lib/python3.8/site-packages/torchsummary/torchsummary.py?line=67'>68</a>\u001b[0m model\u001b[39m.\u001b[39mapply(register_hook)\n\u001b[1;32m     <a href='file:///home/sojeong/anaconda3/envs/cv/lib/python3.8/site-packages/torchsummary/torchsummary.py?line=69'>70</a>\u001b[0m \u001b[39m# make a forward pass\u001b[39;00m\n\u001b[1;32m     <a href='file:///home/sojeong/anaconda3/envs/cv/lib/python3.8/site-packages/torchsummary/torchsummary.py?line=70'>71</a>\u001b[0m \u001b[39m# print(x.shape)\u001b[39;00m\n\u001b[0;32m---> <a href='file:///home/sojeong/anaconda3/envs/cv/lib/python3.8/site-packages/torchsummary/torchsummary.py?line=71'>72</a>\u001b[0m model(\u001b[39m*\u001b[39;49mx)\n\u001b[1;32m     <a href='file:///home/sojeong/anaconda3/envs/cv/lib/python3.8/site-packages/torchsummary/torchsummary.py?line=73'>74</a>\u001b[0m \u001b[39m# remove these hooks\u001b[39;00m\n\u001b[1;32m     <a href='file:///home/sojeong/anaconda3/envs/cv/lib/python3.8/site-packages/torchsummary/torchsummary.py?line=74'>75</a>\u001b[0m \u001b[39mfor\u001b[39;00m h \u001b[39min\u001b[39;00m hooks:\n",
      "File \u001b[0;32m~/anaconda3/envs/cv/lib/python3.8/site-packages/torch/nn/modules/module.py:1110\u001b[0m, in \u001b[0;36mModule._call_impl\u001b[0;34m(self, *input, **kwargs)\u001b[0m\n\u001b[1;32m   <a href='file:///home/sojeong/anaconda3/envs/cv/lib/python3.8/site-packages/torch/nn/modules/module.py?line=1105'>1106</a>\u001b[0m \u001b[39m# If we don't have any hooks, we want to skip the rest of the logic in\u001b[39;00m\n\u001b[1;32m   <a href='file:///home/sojeong/anaconda3/envs/cv/lib/python3.8/site-packages/torch/nn/modules/module.py?line=1106'>1107</a>\u001b[0m \u001b[39m# this function, and just call forward.\u001b[39;00m\n\u001b[1;32m   <a href='file:///home/sojeong/anaconda3/envs/cv/lib/python3.8/site-packages/torch/nn/modules/module.py?line=1107'>1108</a>\u001b[0m \u001b[39mif\u001b[39;00m \u001b[39mnot\u001b[39;00m (\u001b[39mself\u001b[39m\u001b[39m.\u001b[39m_backward_hooks \u001b[39mor\u001b[39;00m \u001b[39mself\u001b[39m\u001b[39m.\u001b[39m_forward_hooks \u001b[39mor\u001b[39;00m \u001b[39mself\u001b[39m\u001b[39m.\u001b[39m_forward_pre_hooks \u001b[39mor\u001b[39;00m _global_backward_hooks\n\u001b[1;32m   <a href='file:///home/sojeong/anaconda3/envs/cv/lib/python3.8/site-packages/torch/nn/modules/module.py?line=1108'>1109</a>\u001b[0m         \u001b[39mor\u001b[39;00m _global_forward_hooks \u001b[39mor\u001b[39;00m _global_forward_pre_hooks):\n\u001b[0;32m-> <a href='file:///home/sojeong/anaconda3/envs/cv/lib/python3.8/site-packages/torch/nn/modules/module.py?line=1109'>1110</a>\u001b[0m     \u001b[39mreturn\u001b[39;00m forward_call(\u001b[39m*\u001b[39;49m\u001b[39minput\u001b[39;49m, \u001b[39m*\u001b[39;49m\u001b[39m*\u001b[39;49mkwargs)\n\u001b[1;32m   <a href='file:///home/sojeong/anaconda3/envs/cv/lib/python3.8/site-packages/torch/nn/modules/module.py?line=1110'>1111</a>\u001b[0m \u001b[39m# Do not call functions when jit is used\u001b[39;00m\n\u001b[1;32m   <a href='file:///home/sojeong/anaconda3/envs/cv/lib/python3.8/site-packages/torch/nn/modules/module.py?line=1111'>1112</a>\u001b[0m full_backward_hooks, non_full_backward_hooks \u001b[39m=\u001b[39m [], []\n",
      "\u001b[1;32m/home/sojeong/CV/resnet/resnet.ipynb Cell 3'\u001b[0m in \u001b[0;36mResNet50.forward\u001b[0;34m(self, x)\u001b[0m\n\u001b[1;32m     <a href='vscode-notebook-cell://ssh-remote%2Balpha/home/sojeong/CV/resnet/resnet.ipynb#ch0000001vscode-remote?line=44'>45</a>\u001b[0m \u001b[39mprint\u001b[39m(\u001b[39m\"\u001b[39m\u001b[39minput size: \u001b[39m\u001b[39m\"\u001b[39m, x\u001b[39m.\u001b[39msize())\n\u001b[1;32m     <a href='vscode-notebook-cell://ssh-remote%2Balpha/home/sojeong/CV/resnet/resnet.ipynb#ch0000001vscode-remote?line=45'>46</a>\u001b[0m \u001b[39mprint\u001b[39m(\u001b[39m\"\u001b[39m\u001b[39mStart foward pass\u001b[39m\u001b[39m\"\u001b[39m)\n\u001b[0;32m---> <a href='vscode-notebook-cell://ssh-remote%2Balpha/home/sojeong/CV/resnet/resnet.ipynb#ch0000001vscode-remote?line=46'>47</a>\u001b[0m out \u001b[39m=\u001b[39m \u001b[39mself\u001b[39m\u001b[39m.\u001b[39mmax1(\u001b[39mself\u001b[39m\u001b[39m.\u001b[39mrl1(\u001b[39mself\u001b[39m\u001b[39m.\u001b[39mbn1(\u001b[39mself\u001b[39;49m\u001b[39m.\u001b[39;49mconv1(x))))\n\u001b[1;32m     <a href='vscode-notebook-cell://ssh-remote%2Balpha/home/sojeong/CV/resnet/resnet.ipynb#ch0000001vscode-remote?line=47'>48</a>\u001b[0m \u001b[39mprint\u001b[39m(\u001b[39m\"\u001b[39m\u001b[39mResNet50 self.conv1 done, size: \u001b[39m\u001b[39m\"\u001b[39m, \u001b[39mself\u001b[39m\u001b[39m.\u001b[39mconv1(x)\u001b[39m.\u001b[39msize())\n\u001b[1;32m     <a href='vscode-notebook-cell://ssh-remote%2Balpha/home/sojeong/CV/resnet/resnet.ipynb#ch0000001vscode-remote?line=48'>49</a>\u001b[0m out \u001b[39m=\u001b[39m \u001b[39mself\u001b[39m\u001b[39m.\u001b[39mconv2(out)\n",
      "File \u001b[0;32m~/anaconda3/envs/cv/lib/python3.8/site-packages/torch/nn/modules/module.py:1128\u001b[0m, in \u001b[0;36mModule._call_impl\u001b[0;34m(self, *input, **kwargs)\u001b[0m\n\u001b[1;32m   <a href='file:///home/sojeong/anaconda3/envs/cv/lib/python3.8/site-packages/torch/nn/modules/module.py?line=1124'>1125</a>\u001b[0m     bw_hook \u001b[39m=\u001b[39m hooks\u001b[39m.\u001b[39mBackwardHook(\u001b[39mself\u001b[39m, full_backward_hooks)\n\u001b[1;32m   <a href='file:///home/sojeong/anaconda3/envs/cv/lib/python3.8/site-packages/torch/nn/modules/module.py?line=1125'>1126</a>\u001b[0m     \u001b[39minput\u001b[39m \u001b[39m=\u001b[39m bw_hook\u001b[39m.\u001b[39msetup_input_hook(\u001b[39minput\u001b[39m)\n\u001b[0;32m-> <a href='file:///home/sojeong/anaconda3/envs/cv/lib/python3.8/site-packages/torch/nn/modules/module.py?line=1127'>1128</a>\u001b[0m result \u001b[39m=\u001b[39m forward_call(\u001b[39m*\u001b[39;49m\u001b[39minput\u001b[39;49m, \u001b[39m*\u001b[39;49m\u001b[39m*\u001b[39;49mkwargs)\n\u001b[1;32m   <a href='file:///home/sojeong/anaconda3/envs/cv/lib/python3.8/site-packages/torch/nn/modules/module.py?line=1128'>1129</a>\u001b[0m \u001b[39mif\u001b[39;00m _global_forward_hooks \u001b[39mor\u001b[39;00m \u001b[39mself\u001b[39m\u001b[39m.\u001b[39m_forward_hooks:\n\u001b[1;32m   <a href='file:///home/sojeong/anaconda3/envs/cv/lib/python3.8/site-packages/torch/nn/modules/module.py?line=1129'>1130</a>\u001b[0m     \u001b[39mfor\u001b[39;00m hook \u001b[39min\u001b[39;00m (\u001b[39m*\u001b[39m_global_forward_hooks\u001b[39m.\u001b[39mvalues(), \u001b[39m*\u001b[39m\u001b[39mself\u001b[39m\u001b[39m.\u001b[39m_forward_hooks\u001b[39m.\u001b[39mvalues()):\n",
      "File \u001b[0;32m~/anaconda3/envs/cv/lib/python3.8/site-packages/torch/nn/modules/conv.py:447\u001b[0m, in \u001b[0;36mConv2d.forward\u001b[0;34m(self, input)\u001b[0m\n\u001b[1;32m    <a href='file:///home/sojeong/anaconda3/envs/cv/lib/python3.8/site-packages/torch/nn/modules/conv.py?line=445'>446</a>\u001b[0m \u001b[39mdef\u001b[39;00m \u001b[39mforward\u001b[39m(\u001b[39mself\u001b[39m, \u001b[39minput\u001b[39m: Tensor) \u001b[39m-\u001b[39m\u001b[39m>\u001b[39m Tensor:\n\u001b[0;32m--> <a href='file:///home/sojeong/anaconda3/envs/cv/lib/python3.8/site-packages/torch/nn/modules/conv.py?line=446'>447</a>\u001b[0m     \u001b[39mreturn\u001b[39;00m \u001b[39mself\u001b[39;49m\u001b[39m.\u001b[39;49m_conv_forward(\u001b[39minput\u001b[39;49m, \u001b[39mself\u001b[39;49m\u001b[39m.\u001b[39;49mweight, \u001b[39mself\u001b[39;49m\u001b[39m.\u001b[39;49mbias)\n",
      "File \u001b[0;32m~/anaconda3/envs/cv/lib/python3.8/site-packages/torch/nn/modules/conv.py:443\u001b[0m, in \u001b[0;36mConv2d._conv_forward\u001b[0;34m(self, input, weight, bias)\u001b[0m\n\u001b[1;32m    <a href='file:///home/sojeong/anaconda3/envs/cv/lib/python3.8/site-packages/torch/nn/modules/conv.py?line=438'>439</a>\u001b[0m \u001b[39mif\u001b[39;00m \u001b[39mself\u001b[39m\u001b[39m.\u001b[39mpadding_mode \u001b[39m!=\u001b[39m \u001b[39m'\u001b[39m\u001b[39mzeros\u001b[39m\u001b[39m'\u001b[39m:\n\u001b[1;32m    <a href='file:///home/sojeong/anaconda3/envs/cv/lib/python3.8/site-packages/torch/nn/modules/conv.py?line=439'>440</a>\u001b[0m     \u001b[39mreturn\u001b[39;00m F\u001b[39m.\u001b[39mconv2d(F\u001b[39m.\u001b[39mpad(\u001b[39minput\u001b[39m, \u001b[39mself\u001b[39m\u001b[39m.\u001b[39m_reversed_padding_repeated_twice, mode\u001b[39m=\u001b[39m\u001b[39mself\u001b[39m\u001b[39m.\u001b[39mpadding_mode),\n\u001b[1;32m    <a href='file:///home/sojeong/anaconda3/envs/cv/lib/python3.8/site-packages/torch/nn/modules/conv.py?line=440'>441</a>\u001b[0m                     weight, bias, \u001b[39mself\u001b[39m\u001b[39m.\u001b[39mstride,\n\u001b[1;32m    <a href='file:///home/sojeong/anaconda3/envs/cv/lib/python3.8/site-packages/torch/nn/modules/conv.py?line=441'>442</a>\u001b[0m                     _pair(\u001b[39m0\u001b[39m), \u001b[39mself\u001b[39m\u001b[39m.\u001b[39mdilation, \u001b[39mself\u001b[39m\u001b[39m.\u001b[39mgroups)\n\u001b[0;32m--> <a href='file:///home/sojeong/anaconda3/envs/cv/lib/python3.8/site-packages/torch/nn/modules/conv.py?line=442'>443</a>\u001b[0m \u001b[39mreturn\u001b[39;00m F\u001b[39m.\u001b[39;49mconv2d(\u001b[39minput\u001b[39;49m, weight, bias, \u001b[39mself\u001b[39;49m\u001b[39m.\u001b[39;49mstride,\n\u001b[1;32m    <a href='file:///home/sojeong/anaconda3/envs/cv/lib/python3.8/site-packages/torch/nn/modules/conv.py?line=443'>444</a>\u001b[0m                 \u001b[39mself\u001b[39;49m\u001b[39m.\u001b[39;49mpadding, \u001b[39mself\u001b[39;49m\u001b[39m.\u001b[39;49mdilation, \u001b[39mself\u001b[39;49m\u001b[39m.\u001b[39;49mgroups)\n",
      "\u001b[0;31mRuntimeError\u001b[0m: Input type (torch.cuda.FloatTensor) and weight type (torch.FloatTensor) should be the same"
     ]
    }
   ],
   "source": [
    "from torchsummary import summary\n",
    "\n",
    "resnet = ResNet50()\n",
    "summary(resnet, input_size=(3,28,28))"
   ]
  },
  {
   "cell_type": "code",
   "execution_count": null,
   "metadata": {},
   "outputs": [],
   "source": []
  }
 ],
 "metadata": {
  "interpreter": {
   "hash": "e73d7685138b7eb2ad9427bd1ae61da544d851fb0421f6c77d829cb8307c0749"
  },
  "kernelspec": {
   "display_name": "Python 3.8.13 ('cv')",
   "language": "python",
   "name": "python3"
  },
  "language_info": {
   "codemirror_mode": {
    "name": "ipython",
    "version": 3
   },
   "file_extension": ".py",
   "mimetype": "text/x-python",
   "name": "python",
   "nbconvert_exporter": "python",
   "pygments_lexer": "ipython3",
   "version": "3.8.13"
  },
  "orig_nbformat": 4
 },
 "nbformat": 4,
 "nbformat_minor": 2
}
